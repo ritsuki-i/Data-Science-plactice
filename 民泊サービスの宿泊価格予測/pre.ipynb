{
 "cells": [
  {
   "cell_type": "code",
   "execution_count": 1,
   "metadata": {},
   "outputs": [],
   "source": [
    "# ライブラリの読み込み\n",
    "import numpy as np\n",
    "import pandas as pd\n",
    "import matplotlib.pyplot as plt\n",
    "import seaborn as sns\n"
   ]
  },
  {
   "cell_type": "code",
   "execution_count": 2,
   "metadata": {},
   "outputs": [],
   "source": [
    "train = pd.read_csv(\"train.csv\")\n",
    "test = pd.read_csv(\"test.csv\")\n",
    "sample_sub = pd.read_csv(\"sample_submit.csv\", header=None)"
   ]
  },
  {
   "cell_type": "code",
   "execution_count": 3,
   "metadata": {},
   "outputs": [
    {
     "name": "stdout",
     "output_type": "stream",
     "text": [
      "(55583, 29)\n",
      "id                          int64\n",
      "accommodates                int64\n",
      "amenities                  object\n",
      "bathrooms                 float64\n",
      "bed_type                   object\n",
      "bedrooms                  float64\n",
      "beds                      float64\n",
      "cancellation_policy        object\n",
      "city                       object\n",
      "cleaning_fee               object\n",
      "description                object\n",
      "first_review               object\n",
      "host_has_profile_pic       object\n",
      "host_identity_verified     object\n",
      "host_response_rate         object\n",
      "host_since                 object\n",
      "instant_bookable           object\n",
      "last_review                object\n",
      "latitude                  float64\n",
      "longitude                 float64\n",
      "name                       object\n",
      "neighbourhood              object\n",
      "number_of_reviews           int64\n",
      "property_type              object\n",
      "review_scores_rating      float64\n",
      "room_type                  object\n",
      "thumbnail_url              object\n",
      "zipcode                    object\n",
      "y                         float64\n",
      "dtype: object\n"
     ]
    }
   ],
   "source": [
    "print(train.shape)\n",
    "print(train.dtypes)"
   ]
  },
  {
   "cell_type": "code",
   "execution_count": 4,
   "metadata": {},
   "outputs": [
    {
     "data": {
      "text/plain": [
       "100%    32510\n",
       "90%      1666\n",
       "80%       824\n",
       "0%        660\n",
       "50%       464\n",
       "        ...  \n",
       "6%          1\n",
       "31%         1\n",
       "21%         1\n",
       "15%         1\n",
       "39%         1\n",
       "Name: host_response_rate, Length: 78, dtype: int64"
      ]
     },
     "execution_count": 4,
     "metadata": {},
     "output_type": "execute_result"
    }
   ],
   "source": [
    "train[\"host_response_rate\"].value_counts()"
   ]
  },
  {
   "cell_type": "code",
   "execution_count": 5,
   "metadata": {},
   "outputs": [
    {
     "data": {
      "text/plain": [
       "id                            0\n",
       "accommodates                  0\n",
       "amenities                     0\n",
       "bathrooms                   147\n",
       "bed_type                      0\n",
       "bedrooms                     71\n",
       "beds                         96\n",
       "cancellation_policy           0\n",
       "city                          0\n",
       "cleaning_fee                  0\n",
       "description                   0\n",
       "first_review              11908\n",
       "host_has_profile_pic        148\n",
       "host_identity_verified      148\n",
       "host_response_rate        13704\n",
       "host_since                  148\n",
       "instant_bookable              0\n",
       "last_review               11880\n",
       "latitude                      0\n",
       "longitude                     0\n",
       "name                          0\n",
       "neighbourhood              5160\n",
       "number_of_reviews             0\n",
       "property_type                 0\n",
       "review_scores_rating      12556\n",
       "room_type                     0\n",
       "thumbnail_url              6145\n",
       "zipcode                     716\n",
       "y                             0\n",
       "dtype: int64"
      ]
     },
     "execution_count": 5,
     "metadata": {},
     "output_type": "execute_result"
    }
   ],
   "source": [
    "train.isnull().sum()"
   ]
  },
  {
   "cell_type": "code",
   "execution_count": 6,
   "metadata": {},
   "outputs": [
    {
     "data": {
      "text/plain": [
       "id                           0\n",
       "accommodates                 0\n",
       "amenities                    0\n",
       "bathrooms                   53\n",
       "bed_type                     0\n",
       "bedrooms                    20\n",
       "beds                        35\n",
       "cancellation_policy          0\n",
       "city                         0\n",
       "cleaning_fee                 0\n",
       "description                  0\n",
       "first_review              3956\n",
       "host_has_profile_pic        40\n",
       "host_identity_verified      40\n",
       "host_response_rate        4595\n",
       "host_since                  40\n",
       "instant_bookable             0\n",
       "last_review               3947\n",
       "latitude                     0\n",
       "longitude                    0\n",
       "name                         0\n",
       "neighbourhood             1712\n",
       "number_of_reviews            0\n",
       "property_type                0\n",
       "review_scores_rating      4166\n",
       "room_type                    0\n",
       "thumbnail_url             2071\n",
       "zipcode                    250\n",
       "dtype: int64"
      ]
     },
     "execution_count": 6,
     "metadata": {},
     "output_type": "execute_result"
    }
   ],
   "source": [
    "test.isnull().sum()"
   ]
  },
  {
   "cell_type": "code",
   "execution_count": 7,
   "metadata": {},
   "outputs": [
    {
     "data": {
      "text/plain": [
       "Real Bed         53989\n",
       "Futon              569\n",
       "Pull-out Sofa      453\n",
       "Airbed             364\n",
       "Couch              208\n",
       "Name: bed_type, dtype: int64"
      ]
     },
     "execution_count": 7,
     "metadata": {},
     "output_type": "execute_result"
    }
   ],
   "source": [
    "train[\"bed_type\"].value_counts()"
   ]
  },
  {
   "cell_type": "code",
   "execution_count": 14,
   "metadata": {},
   "outputs": [
    {
     "data": {
      "text/plain": [
       "0                      NaN\n",
       "1                Brookland\n",
       "2                 Bushwick\n",
       "3                 Nob Hill\n",
       "4          Upper West Side\n",
       "               ...        \n",
       "55578    Flatiron District\n",
       "55579                  NaN\n",
       "55580     Mission District\n",
       "55581               Reseda\n",
       "55582         Sherman Oaks\n",
       "Name: neighbourhood, Length: 55583, dtype: object"
      ]
     },
     "execution_count": 14,
     "metadata": {},
     "output_type": "execute_result"
    }
   ],
   "source": [
    "train[\"neighbourhood\"]"
   ]
  },
  {
   "attachments": {},
   "cell_type": "markdown",
   "metadata": {},
   "source": [
    "# 説明変数としてありうるもの  \n",
    "[\"accommodates\",\"bathrooms\",\"bed_type\",\"bedrooms\",\"beds\",\"city\",\"cleaning_fee\",\"latitude\",\"longitude\"]"
   ]
  },
  {
   "cell_type": "code",
   "execution_count": 8,
   "metadata": {},
   "outputs": [
    {
     "data": {
      "text/plain": [
       "NYC        24326\n",
       "LA         16828\n",
       "SF          4768\n",
       "DC          4259\n",
       "Chicago     2807\n",
       "Boston      2595\n",
       "Name: city, dtype: int64"
      ]
     },
     "execution_count": 8,
     "metadata": {},
     "output_type": "execute_result"
    }
   ],
   "source": [
    "train[\"city\"].value_counts()"
   ]
  },
  {
   "cell_type": "code",
   "execution_count": 9,
   "metadata": {},
   "outputs": [],
   "source": [
    "train_filter = train[[\"accommodates\",\"bathrooms\",\"bed_type\",\"bedrooms\",\"beds\",\"city\",\"cleaning_fee\",\"latitude\",\"longitude\"]]\n",
    "test_filter = test[[\"accommodates\",\"bathrooms\",\"bed_type\",\"bedrooms\",\"beds\",\"city\",\"cleaning_fee\",\"latitude\",\"longitude\"]]"
   ]
  },
  {
   "cell_type": "code",
   "execution_count": 10,
   "metadata": {},
   "outputs": [
    {
     "name": "stderr",
     "output_type": "stream",
     "text": [
      "/var/folders/5x/f6ds179521j382hhjsp146x80000gn/T/ipykernel_6124/2867894739.py:5: SettingWithCopyWarning: \n",
      "A value is trying to be set on a copy of a slice from a DataFrame.\n",
      "Try using .loc[row_indexer,col_indexer] = value instead\n",
      "\n",
      "See the caveats in the documentation: https://pandas.pydata.org/pandas-docs/stable/user_guide/indexing.html#returning-a-view-versus-a-copy\n",
      "  train_filter[item] =train_filter[item].fillna(nan_value)\n",
      "/var/folders/5x/f6ds179521j382hhjsp146x80000gn/T/ipykernel_6124/2867894739.py:6: SettingWithCopyWarning: \n",
      "A value is trying to be set on a copy of a slice from a DataFrame.\n",
      "Try using .loc[row_indexer,col_indexer] = value instead\n",
      "\n",
      "See the caveats in the documentation: https://pandas.pydata.org/pandas-docs/stable/user_guide/indexing.html#returning-a-view-versus-a-copy\n",
      "  test_filter[item] =test_filter[item].fillna(nan_value)\n"
     ]
    }
   ],
   "source": [
    "#欠損値処理\n",
    "items = [\"bathrooms\",\"bedrooms\",\"beds\"]\n",
    "for item in items:\n",
    "    nan_value = (train_filter[item].sum() + test_filter[item].sum())/(len(train_filter) + len(test_filter))\n",
    "    train_filter[item] =train_filter[item].fillna(nan_value)\n",
    "    test_filter[item] =test_filter[item].fillna(nan_value)"
   ]
  },
  {
   "cell_type": "code",
   "execution_count": 31,
   "metadata": {},
   "outputs": [
    {
     "data": {
      "text/plain": [
       "accommodates    0\n",
       "bathrooms       0\n",
       "bed_type        0\n",
       "bedrooms        0\n",
       "beds            0\n",
       "city            0\n",
       "cleaning_fee    0\n",
       "latitude        0\n",
       "longitude       0\n",
       "dtype: int64"
      ]
     },
     "execution_count": 31,
     "metadata": {},
     "output_type": "execute_result"
    }
   ],
   "source": [
    "train_filter.isnull().sum()"
   ]
  },
  {
   "cell_type": "code",
   "execution_count": 16,
   "metadata": {},
   "outputs": [
    {
     "data": {
      "text/plain": [
       "accommodates      int64\n",
       "bathrooms       float64\n",
       "bed_type          int64\n",
       "bedrooms        float64\n",
       "beds            float64\n",
       "city              int64\n",
       "cleaning_fee      int64\n",
       "latitude        float64\n",
       "longitude       float64\n",
       "dtype: object"
      ]
     },
     "execution_count": 16,
     "metadata": {},
     "output_type": "execute_result"
    }
   ],
   "source": [
    "train_filter.dtypes"
   ]
  },
  {
   "cell_type": "code",
   "execution_count": 14,
   "metadata": {},
   "outputs": [
    {
     "data": {
      "text/plain": [
       "t    40821\n",
       "f    14762\n",
       "Name: cleaning_fee, dtype: int64"
      ]
     },
     "execution_count": 14,
     "metadata": {},
     "output_type": "execute_result"
    }
   ],
   "source": [
    "train[\"cleaning_fee\"].value_counts()"
   ]
  },
  {
   "cell_type": "code",
   "execution_count": 15,
   "metadata": {},
   "outputs": [
    {
     "name": "stderr",
     "output_type": "stream",
     "text": [
      "/var/folders/5x/f6ds179521j382hhjsp146x80000gn/T/ipykernel_6124/3320044782.py:7: SettingWithCopyWarning: \n",
      "A value is trying to be set on a copy of a slice from a DataFrame.\n",
      "Try using .loc[row_indexer,col_indexer] = value instead\n",
      "\n",
      "See the caveats in the documentation: https://pandas.pydata.org/pandas-docs/stable/user_guide/indexing.html#returning-a-view-versus-a-copy\n",
      "  train_filter[column] = encoder.fit_transform(train_filter[column])\n"
     ]
    }
   ],
   "source": [
    "#ラベルエンコーディング\n",
    "object_columns = [\"bed_type\",\"city\",\"cleaning_fee\"]\n",
    "from sklearn.preprocessing import LabelEncoder\n",
    "encoder = LabelEncoder()\n",
    "\n",
    "for column in object_columns:\n",
    "    train_filter[column] = encoder.fit_transform(train_filter[column])"
   ]
  },
  {
   "cell_type": "code",
   "execution_count": 24,
   "metadata": {},
   "outputs": [
    {
     "name": "stdout",
     "output_type": "stream",
     "text": [
      "accommodates and bathrooms のVIF:1.3364763601846108\n",
      "accommodates and bed_type のVIF:1.0056681412797344\n",
      "accommodates and bedrooms のVIF:2.0070948448582233\n",
      "accommodates and beds のVIF:2.8506685219523566\n",
      "accommodates and city のVIF:1.0104764751475357\n",
      "accommodates and cleaning_fee のVIF:1.0340182782770377\n",
      "accommodates and latitude のVIF:1.006343591721376\n",
      "accommodates and longitude のVIF:1.0075149992551422\n",
      "bathrooms and accommodates のVIF:1.3364763601846108\n",
      "bathrooms and bed_type のVIF:1.001681264576713\n",
      "bathrooms and bedrooms のVIF:1.5231367040913768\n",
      "bathrooms and beds のVIF:1.3795901821440135\n",
      "bathrooms and city のVIF:1.0062903703650548\n",
      "bathrooms and cleaning_fee のVIF:1.0027726661259924\n",
      "bathrooms and latitude のVIF:1.0186309232513284\n",
      "bathrooms and longitude のVIF:1.0176939176953825\n",
      "bed_type and accommodates のVIF:1.0056681412797344\n",
      "bed_type and bathrooms のVIF:1.001681264576713\n",
      "bed_type and bedrooms のVIF:1.0030755435097698\n",
      "bed_type and beds のVIF:1.0045787759891693\n",
      "bed_type and city のVIF:1.0000168135041088\n",
      "bed_type and cleaning_fee のVIF:1.0013941789647023\n",
      "bed_type and latitude のVIF:1.0000046691704236\n",
      "bed_type and longitude のVIF:1.0000192054444612\n",
      "bedrooms and accommodates のVIF:2.0070948448582233\n",
      "bedrooms and bathrooms のVIF:1.5231367040913768\n",
      "bedrooms and bed_type のVIF:1.0030755435097698\n",
      "bedrooms and beds のVIF:2.004441729831947\n",
      "bedrooms and city のVIF:1.0045800853221698\n",
      "bedrooms and cleaning_fee のVIF:1.0114974912684298\n",
      "bedrooms and latitude のVIF:1.0033134405049506\n",
      "bedrooms and longitude のVIF:1.0055032653463627\n",
      "beds and accommodates のVIF:2.8506685219523566\n",
      "beds and bathrooms のVIF:1.3795901821440135\n",
      "beds and bed_type のVIF:1.0045787759891693\n",
      "beds and bedrooms のVIF:2.004441729831947\n",
      "beds and city のVIF:1.0046693732391456\n",
      "beds and cleaning_fee のVIF:1.0176386646699478\n",
      "beds and latitude のVIF:1.0064799921899372\n",
      "beds and longitude のVIF:1.0068295482888676\n",
      "city and accommodates のVIF:1.0104764751475357\n",
      "city and bathrooms のVIF:1.0062903703650548\n",
      "city and bed_type のVIF:1.0000168135041088\n",
      "city and bedrooms のVIF:1.0045800853221698\n",
      "city and beds のVIF:1.0046693732391456\n",
      "city and cleaning_fee のVIF:1.0003324270132892\n",
      "city and latitude のVIF:1.00018203097206\n",
      "city and longitude のVIF:1.0046305116312741\n",
      "cleaning_fee and accommodates のVIF:1.0340182782770377\n",
      "cleaning_fee and bathrooms のVIF:1.0027726661259924\n",
      "cleaning_fee and bed_type のVIF:1.0013941789647023\n",
      "cleaning_fee and bedrooms のVIF:1.0114974912684298\n",
      "cleaning_fee and beds のVIF:1.0176386646699478\n",
      "cleaning_fee and city のVIF:1.0003324270132892\n",
      "cleaning_fee and latitude のVIF:1.0037587806313701\n",
      "cleaning_fee and longitude のVIF:1.0047665617611554\n",
      "latitude and accommodates のVIF:1.006343591721376\n",
      "latitude and bathrooms のVIF:1.0186309232513284\n",
      "latitude and bed_type のVIF:1.0000046691704236\n",
      "latitude and bedrooms のVIF:1.0033134405049506\n",
      "latitude and beds のVIF:1.0064799921899372\n",
      "latitude and city のVIF:1.00018203097206\n",
      "latitude and cleaning_fee のVIF:1.0037587806313701\n",
      "latitude and longitude のVIF:5.098337965050578\n",
      "longitude and accommodates のVIF:1.0075149992551422\n",
      "longitude and bathrooms のVIF:1.0176939176953825\n",
      "longitude and bed_type のVIF:1.0000192054444612\n",
      "longitude and bedrooms のVIF:1.0055032653463627\n",
      "longitude and beds のVIF:1.0068295482888676\n",
      "longitude and city のVIF:1.0046305116312741\n",
      "longitude and cleaning_fee のVIF:1.0047665617611554\n",
      "longitude and latitude のVIF:5.098337965050578\n"
     ]
    },
    {
     "data": {
      "text/html": [
       "<div>\n",
       "<style scoped>\n",
       "    .dataframe tbody tr th:only-of-type {\n",
       "        vertical-align: middle;\n",
       "    }\n",
       "\n",
       "    .dataframe tbody tr th {\n",
       "        vertical-align: top;\n",
       "    }\n",
       "\n",
       "    .dataframe thead th {\n",
       "        text-align: right;\n",
       "    }\n",
       "</style>\n",
       "<table border=\"1\" class=\"dataframe\">\n",
       "  <thead>\n",
       "    <tr style=\"text-align: right;\">\n",
       "      <th></th>\n",
       "      <th>accommodates</th>\n",
       "      <th>bathrooms</th>\n",
       "      <th>bed_type</th>\n",
       "      <th>bedrooms</th>\n",
       "      <th>beds</th>\n",
       "      <th>city</th>\n",
       "      <th>cleaning_fee</th>\n",
       "      <th>latitude</th>\n",
       "      <th>longitude</th>\n",
       "    </tr>\n",
       "  </thead>\n",
       "  <tbody>\n",
       "    <tr>\n",
       "      <th>accommodates</th>\n",
       "      <td>1.000000</td>\n",
       "      <td>0.501761</td>\n",
       "      <td>0.075075</td>\n",
       "      <td>0.708355</td>\n",
       "      <td>0.805733</td>\n",
       "      <td>-0.101823</td>\n",
       "      <td>0.181381</td>\n",
       "      <td>-0.079395</td>\n",
       "      <td>-0.086365</td>\n",
       "    </tr>\n",
       "    <tr>\n",
       "      <th>bathrooms</th>\n",
       "      <td>0.501761</td>\n",
       "      <td>1.000000</td>\n",
       "      <td>0.040969</td>\n",
       "      <td>0.586055</td>\n",
       "      <td>0.524545</td>\n",
       "      <td>-0.079064</td>\n",
       "      <td>0.052583</td>\n",
       "      <td>-0.135241</td>\n",
       "      <td>-0.131857</td>\n",
       "    </tr>\n",
       "    <tr>\n",
       "      <th>bed_type</th>\n",
       "      <td>0.075075</td>\n",
       "      <td>0.040969</td>\n",
       "      <td>1.000000</td>\n",
       "      <td>0.055372</td>\n",
       "      <td>0.067512</td>\n",
       "      <td>0.004100</td>\n",
       "      <td>0.037313</td>\n",
       "      <td>0.002161</td>\n",
       "      <td>0.004382</td>\n",
       "    </tr>\n",
       "    <tr>\n",
       "      <th>bedrooms</th>\n",
       "      <td>0.708355</td>\n",
       "      <td>0.586055</td>\n",
       "      <td>0.055372</td>\n",
       "      <td>1.000000</td>\n",
       "      <td>0.707890</td>\n",
       "      <td>-0.067522</td>\n",
       "      <td>0.106615</td>\n",
       "      <td>-0.057467</td>\n",
       "      <td>-0.073981</td>\n",
       "    </tr>\n",
       "    <tr>\n",
       "      <th>beds</th>\n",
       "      <td>0.805733</td>\n",
       "      <td>0.524545</td>\n",
       "      <td>0.067512</td>\n",
       "      <td>0.707890</td>\n",
       "      <td>1.000000</td>\n",
       "      <td>-0.068174</td>\n",
       "      <td>0.131655</td>\n",
       "      <td>-0.080239</td>\n",
       "      <td>-0.082360</td>\n",
       "    </tr>\n",
       "    <tr>\n",
       "      <th>city</th>\n",
       "      <td>-0.101823</td>\n",
       "      <td>-0.079064</td>\n",
       "      <td>0.004100</td>\n",
       "      <td>-0.067522</td>\n",
       "      <td>-0.068174</td>\n",
       "      <td>1.000000</td>\n",
       "      <td>-0.018230</td>\n",
       "      <td>-0.013491</td>\n",
       "      <td>-0.067891</td>\n",
       "    </tr>\n",
       "    <tr>\n",
       "      <th>cleaning_fee</th>\n",
       "      <td>0.181381</td>\n",
       "      <td>0.052583</td>\n",
       "      <td>0.037313</td>\n",
       "      <td>0.106615</td>\n",
       "      <td>0.131655</td>\n",
       "      <td>-0.018230</td>\n",
       "      <td>1.000000</td>\n",
       "      <td>-0.061194</td>\n",
       "      <td>-0.068876</td>\n",
       "    </tr>\n",
       "    <tr>\n",
       "      <th>latitude</th>\n",
       "      <td>-0.079395</td>\n",
       "      <td>-0.135241</td>\n",
       "      <td>0.002161</td>\n",
       "      <td>-0.057467</td>\n",
       "      <td>-0.080239</td>\n",
       "      <td>-0.013491</td>\n",
       "      <td>-0.061194</td>\n",
       "      <td>1.000000</td>\n",
       "      <td>0.896581</td>\n",
       "    </tr>\n",
       "    <tr>\n",
       "      <th>longitude</th>\n",
       "      <td>-0.086365</td>\n",
       "      <td>-0.131857</td>\n",
       "      <td>0.004382</td>\n",
       "      <td>-0.073981</td>\n",
       "      <td>-0.082360</td>\n",
       "      <td>-0.067891</td>\n",
       "      <td>-0.068876</td>\n",
       "      <td>0.896581</td>\n",
       "      <td>1.000000</td>\n",
       "    </tr>\n",
       "  </tbody>\n",
       "</table>\n",
       "</div>"
      ],
      "text/plain": [
       "              accommodates  bathrooms  bed_type  bedrooms      beds      city  \\\n",
       "accommodates      1.000000   0.501761  0.075075  0.708355  0.805733 -0.101823   \n",
       "bathrooms         0.501761   1.000000  0.040969  0.586055  0.524545 -0.079064   \n",
       "bed_type          0.075075   0.040969  1.000000  0.055372  0.067512  0.004100   \n",
       "bedrooms          0.708355   0.586055  0.055372  1.000000  0.707890 -0.067522   \n",
       "beds              0.805733   0.524545  0.067512  0.707890  1.000000 -0.068174   \n",
       "city             -0.101823  -0.079064  0.004100 -0.067522 -0.068174  1.000000   \n",
       "cleaning_fee      0.181381   0.052583  0.037313  0.106615  0.131655 -0.018230   \n",
       "latitude         -0.079395  -0.135241  0.002161 -0.057467 -0.080239 -0.013491   \n",
       "longitude        -0.086365  -0.131857  0.004382 -0.073981 -0.082360 -0.067891   \n",
       "\n",
       "              cleaning_fee  latitude  longitude  \n",
       "accommodates      0.181381 -0.079395  -0.086365  \n",
       "bathrooms         0.052583 -0.135241  -0.131857  \n",
       "bed_type          0.037313  0.002161   0.004382  \n",
       "bedrooms          0.106615 -0.057467  -0.073981  \n",
       "beds              0.131655 -0.080239  -0.082360  \n",
       "city             -0.018230 -0.013491  -0.067891  \n",
       "cleaning_fee      1.000000 -0.061194  -0.068876  \n",
       "latitude         -0.061194  1.000000   0.896581  \n",
       "longitude        -0.068876  0.896581   1.000000  "
      ]
     },
     "execution_count": 24,
     "metadata": {},
     "output_type": "execute_result"
    }
   ],
   "source": [
    "#2変数のVIFを計測\n",
    "\n",
    "def VIF(corr):\n",
    "    return 1/(1-corr**2)\n",
    "\n",
    "correlation_matrix = train_filter.corr()\n",
    "\n",
    "columns = [\"accommodates\",\"bathrooms\",\"bed_type\",\"bedrooms\",\"beds\",\"city\",\"cleaning_fee\",\"latitude\",\"longitude\"]\n",
    "for column1 in columns:\n",
    "    for column2 in columns:\n",
    "        if(column1!=column2):\n",
    "            if VIF(correlation_matrix[column1][column2])>1:\n",
    "                print(\"{} and {} のVIF:{}\".format(column1,column2,str(VIF(correlation_matrix[column1][column2]))))\n",
    "                \n",
    "correlation_matrix"
   ]
  },
  {
   "cell_type": "code",
   "execution_count": null,
   "metadata": {},
   "outputs": [],
   "source": []
  }
 ],
 "metadata": {
  "kernelspec": {
   "display_name": ".venv",
   "language": "python",
   "name": "python3"
  },
  "language_info": {
   "codemirror_mode": {
    "name": "ipython",
    "version": 3
   },
   "file_extension": ".py",
   "mimetype": "text/x-python",
   "name": "python",
   "nbconvert_exporter": "python",
   "pygments_lexer": "ipython3",
   "version": "3.10.6"
  },
  "orig_nbformat": 4
 },
 "nbformat": 4,
 "nbformat_minor": 2
}
